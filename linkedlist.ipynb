{
  "nbformat": 4,
  "nbformat_minor": 0,
  "metadata": {
    "colab": {
      "provenance": [],
      "authorship_tag": "ABX9TyO7MyVCEc5EPYfy3F3/ERur",
      "include_colab_link": true
    },
    "kernelspec": {
      "name": "python3",
      "display_name": "Python 3"
    },
    "language_info": {
      "name": "python"
    }
  },
  "cells": [
    {
      "cell_type": "markdown",
      "metadata": {
        "id": "view-in-github",
        "colab_type": "text"
      },
      "source": [
        "<a href=\"https://colab.research.google.com/github/HeseltineBTutu/API-Development-and-Documentation-exercises/blob/master/linkedlist.ipynb\" target=\"_parent\"><img src=\"https://colab.research.google.com/assets/colab-badge.svg\" alt=\"Open In Colab\"/></a>"
      ]
    },
    {
      "cell_type": "code",
      "execution_count": 18,
      "metadata": {
        "colab": {
          "base_uri": "https://localhost:8080/"
        },
        "id": "7BspzdlZUHC4",
        "outputId": "6bacb7b0-d499-4ea2-daba-30431b6f5a4c"
      },
      "outputs": [
        {
          "output_type": "stream",
          "name": "stdout",
          "text": [
            "5 10 15 20 "
          ]
        }
      ],
      "source": [
        "#Traversal in Linked list\n",
        "class Node():\n",
        "  def __init__(self, data):\n",
        "    self.data = data\n",
        "    self.next = None\n",
        "\n",
        "class Singly_Linked_List():\n",
        "  def __init__(self):\n",
        "      self.head = None\n",
        "\n",
        "  def traversal(self):\n",
        "    if self.head is None:\n",
        "      print(\"Singly linked list is empty\")\n",
        "    else:\n",
        "      a = self.head\n",
        "      while a is not None:\n",
        "        print(a.data, end = \" \")\n",
        "        a = a.next\n",
        "n1 = Node(5)\n",
        "sll = Singly_Linked_List()\n",
        "sll.head = n1\n",
        "n2 = Node(10)\n",
        "n1.next = n2\n",
        "n3 = Node(15)\n",
        "n2.next = n3\n",
        "n4 = Node(20)\n",
        "n3.next = n4\n",
        "sll.traversal()\n",
        "\n",
        "\n"
      ]
    }
  ]
}